{
 "cells": [
  {
   "cell_type": "code",
   "execution_count": 2,
   "metadata": {},
   "outputs": [],
   "source": [
    "import pandas as pd\n",
    "import tensorflow as tf\n",
    "import matplotlib.pyplot as plt\n",
    "import numpy as np\n",
    "import math"
   ]
  },
  {
   "cell_type": "code",
   "execution_count": 3,
   "metadata": {},
   "outputs": [],
   "source": [
    "#download and format iris training set\n",
    "\n",
    "CSV_COLUMN_NAMES = ['SepalLength', 'SepalWidth', 'PetalLength', 'PetalWidth', 'Species']\n",
    "SPECIES = ['Setosa', 'Versicolor', 'Virginica']\n",
    "\n",
    "train_path = tf.keras.utils.get_file(\n",
    "    \"iris_training.csv\", \"https://storage.googleapis.com/download.tensorflow.org/data/iris_training.csv\")\n",
    "test_path = tf.keras.utils.get_file(\n",
    "    \"iris_test.csv\", \"https://storage.googleapis.com/download.tensorflow.org/data/iris_test.csv\")\n",
    "\n",
    "train = pd.read_csv(train_path, names=CSV_COLUMN_NAMES, header=0)\n",
    "test = pd.read_csv(test_path, names=CSV_COLUMN_NAMES, header=0)\n",
    "\n",
    "train = train.drop([\"SepalWidth\", \"PetalWidth\"], axis = 1)\n",
    "test = test.drop([\"SepalWidth\", \"PetalWidth\"], axis = 1)"
   ]
  },
  {
   "cell_type": "code",
   "execution_count": 4,
   "metadata": {},
   "outputs": [],
   "source": [
    "#create test datasets\n",
    "train_y = train.pop(\"Species\")\n",
    "\n",
    "test_y = test.pop(\"Species\")"
   ]
  },
  {
   "cell_type": "code",
   "execution_count": 5,
   "metadata": {},
   "outputs": [
    {
     "name": "stdout",
     "output_type": "stream",
     "text": [
      "   SepalLength  PetalLength\n",
      "0          6.4          5.6\n",
      "1          5.0          3.3\n",
      "2          4.9          4.5\n",
      "3          4.9          1.5\n",
      "4          5.7          1.7\n",
      "   SepalLength  PetalLength\n",
      "0          5.9          4.2\n",
      "1          6.9          5.4\n",
      "2          5.1          1.7\n",
      "3          6.0          4.5\n",
      "4          5.5          4.0\n"
     ]
    }
   ],
   "source": [
    "print(train.head())\n",
    "print(test.head())\n",
    "#print(train_y)\n",
    "#print(test_y)"
   ]
  },
  {
   "cell_type": "code",
   "execution_count": 48,
   "metadata": {},
   "outputs": [
    {
     "name": "stdout",
     "output_type": "stream",
     "text": [
      "[[4.9, 1.5], [5.7, 1.7], [4.4, 1.3], [5.4, 1.5], [5.1, 1.5], [5.8, 1.2], [5.4, 1.7], [5.7, 1.5], [5.4, 1.3], [5.2, 1.5], [5.1, 1.5], [4.8, 1.4], [5.1, 1.9], [4.7, 1.6], [4.8, 1.6], [4.6, 1.0], [5.0, 1.4], [5.0, 1.2], [4.4, 1.3], [5.0, 1.5], [4.7, 1.3], [5.5, 1.3], [4.9, 1.5], [5.4, 1.5], [4.9, 1.5], [5.0, 1.3], [5.1, 1.4], [4.6, 1.5], [4.6, 1.4], [4.6, 1.4], [5.1, 1.6], [4.9, 1.4], [4.5, 1.3], [5.0, 1.6], [5.2, 1.4], [5.3, 1.5], [5.0, 1.4], [4.8, 1.6], [5.0, 1.6], [5.0, 1.6], [4.4, 1.4], [4.8, 1.4]]\n"
     ]
    },
    {
     "data": {
      "image/png": "[encoded data removed]",
      "text/plain": [
       "<Figure size 1152x648 with 1 Axes>"
      ]
     },
     "metadata": {
      "needs_background": "light"
     },
     "output_type": "display_data"
    }
   ],
   "source": [
    "#graph training data\n",
    "\n",
    "points = train.values.tolist()\n",
    "answers = train_y.values.tolist()\n",
    "\n",
    "setosa = []\n",
    "versicolor = []\n",
    "virginica = []\n",
    "\n",
    "t = 0\n",
    "for x in points:\n",
    "    if answers[t] == 0:\n",
    "        setosa.append(x)\n",
    "    elif answers[t] == 1:\n",
    "        versicolor.append(x)\n",
    "    elif answers[t] == 2:\n",
    "        virginica.append(x)\n",
    "    else:\n",
    "        print(\"Class out of range\")\n",
    "    t += 1\n",
    "\n",
    "print(setosa)\n",
    "setosa = np.array(setosa)\n",
    "versicolor = np.array(versicolor)\n",
    "virginica = np.array(virginica)\n",
    "    \n",
    "    \n",
    "plt.figure(figsize=(16,9))\n",
    "plt.scatter(setosa[:,0],setosa[:,1],color='red',label='Setosa')\n",
    "plt.scatter(versicolor[:,0],versicolor[:,1],color='black',label='Versicolor')\n",
    "plt.scatter(virginica[:,0],virginica[:,1],color='green',label='Virginica')\n",
    "plt.legend()\n",
    "plt.show()"
   ]
  },
  {
   "cell_type": "code",
   "execution_count": 46,
   "metadata": {},
   "outputs": [
    {
     "name": "stdout",
     "output_type": "stream",
     "text": [
      "1 2 3 4 5 6 7 8 9 10 11 12 13 14 15 16 17 18 19 20 21 22 23 24 25 26 27 28 29 30 \n",
      "Correct: 29\n",
      "Wrong: 1\n",
      "accuracy: 0.9666666666666667\n"
     ]
    }
   ],
   "source": [
    "dataset = [setosa, versicolor, virginica]\n",
    "\n",
    "\n",
    "def kNN (dataset, predict, k=3):\n",
    "    #check if k is more than amount of classes\n",
    "    if len(dataset) > k:\n",
    "        print(\"K is less than total classifiers!\")\n",
    "    \n",
    "    distances = []\n",
    "    \n",
    "    groupNum = 0\n",
    "    for Class in dataset:\n",
    "        for point in Class:\n",
    "            euclidean_distance = math.sqrt((point[0] - predict[0])**2 + (point[1]-predict[1])**2)\n",
    "            distances.append([euclidean_distance, groupNum])\n",
    "        groupNum += 1\n",
    "    \n",
    "    #sort to get closes distances and the the class of the closest three\n",
    "    scored = sorted(distances)\n",
    "    votes = []\n",
    "    for x in scored[:k]:\n",
    "        votes.append(x[1])\n",
    "    \n",
    "    #get most common vote\n",
    "    #print(votes)\n",
    "    nums = []\n",
    "    groupNum = 0\n",
    "    for x in range(len(dataset)):\n",
    "        count = votes.count(groupNum)\n",
    "        nums.append(count)\n",
    "        groupNum += 1\n",
    "    \n",
    "    vote_result = max(votes)\n",
    "    return vote_result\n",
    "\n",
    "testPoints = test.values.tolist()\n",
    "testAnswers = test_y.values.tolist()\n",
    "\n",
    "corrects = 0\n",
    "wrongs = 0\n",
    "\n",
    "predictions = []\n",
    "t = 0\n",
    "for x in testPoints:\n",
    "    result = kNN(dataset, x, 3)\n",
    "    if result == testAnswers[t]:\n",
    "        corrects += 1\n",
    "    else:\n",
    "        wrongs += 1\n",
    "    t += 1\n",
    "    predictions.append([x, result])\n",
    "    print(t, end=\" \")\n",
    "    #print(result)\n",
    "\n",
    "print()\n",
    "\n",
    "print(\"Correct:\", corrects)\n",
    "print(\"Wrong:\", wrongs)\n",
    "\n",
    "print(\"accuracy:\", corrects / (corrects + wrongs))"
   ]
  },
  {
   "cell_type": "code",
   "execution_count": 50,
   "metadata": {},
   "outputs": [
    {
     "name": "stdout",
     "output_type": "stream",
     "text": [
      "[[5.1, 1.7], [5.5, 1.4], [4.3, 1.1], [5.1, 1.4], [4.8, 1.9], [5.1, 1.5], [5.4, 1.7], [5.2, 1.5]]\n"
     ]
    },
    {
     "data": {
      "image/png": "[encoded data removed]",
      "text/plain": [
       "<Figure size 1152x648 with 1 Axes>"
      ]
     },
     "metadata": {
      "needs_background": "light"
     },
     "output_type": "display_data"
    }
   ],
   "source": [
    "#create a complete graph with predicted data along with given data\n",
    "\n",
    "predicted_setosa = []\n",
    "predicted_versicolor = []\n",
    "predicted_virginica = []\n",
    "\n",
    "for x in predictions:\n",
    "    if x[1] == 0:\n",
    "        predicted_setosa.append(x[0])\n",
    "    elif x[1] == 1:\n",
    "        predicted_versicolor.append(x[0])\n",
    "    elif x[1] == 2:\n",
    "        predicted_virginica.append(x[0])\n",
    "    else:\n",
    "        print(\"Result out of class range\")\n",
    "print(predicted_setosa)\n",
    "predicted_setosa = np.array(predicted_setosa)\n",
    "predicted_versicolor = np.array(predicted_versicolor)\n",
    "predicted_virginica = np.array(predicted_virginica)\n",
    "\n",
    "plt.figure(figsize=(16,9))\n",
    "plt.scatter(setosa[:,0],setosa[:,1],color='red',label='Setosa')\n",
    "plt.scatter(versicolor[:,0],versicolor[:,1],color='black',label='Versicolor')\n",
    "plt.scatter(virginica[:,0],virginica[:,1],color='green',label='Virginica')\n",
    "plt.scatter(predicted_setosa[:,0],predicted_setosa[:,1],color='pink',label='Predicted Setosa')\n",
    "plt.scatter(predicted_versicolor[:,0],predicted_versicolor[:,1],color='grey',label='Predicted Versicolor')\n",
    "plt.scatter(predicted_virginica[:,0],predicted_virginica[:,1],color='lime',label='Predicted Virginica')\n",
    "plt.legend()\n",
    "plt.show()"
   ]
  },
  {
   "cell_type": "code",
   "execution_count": null,
   "metadata": {},
   "outputs": [],
   "source": []
  }
 ],
 "metadata": {
  "kernelspec": {
   "display_name": "Python 3",
   "language": "python",
   "name": "python3"
  },
  "language_info": {
   "codemirror_mode": {
    "name": "ipython",
    "version": 3
   },
   "file_extension": ".py",
   "mimetype": "text/x-python",
   "name": "python",
   "nbconvert_exporter": "python",
   "pygments_lexer": "ipython3",
   "version": "3.8.5"
  }
 },
 "nbformat": 4,
 "nbformat_minor": 4
}
