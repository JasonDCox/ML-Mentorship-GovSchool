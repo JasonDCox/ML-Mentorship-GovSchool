{
 "cells": [
  {
   "cell_type": "markdown",
   "metadata": {
    "id": "QUANWN3rpfC9"
   },
   "source": [
    "# 0. Setup Paths"
   ]
  },
  {
   "cell_type": "code",
   "execution_count": null,
   "metadata": {
    "id": "146BB11JpfDA"
   },
   "outputs": [],
   "source": [
    "import os"
   ]
  },
  {
   "cell_type": "code",
   "execution_count": null,
   "metadata": {
    "id": "42hJEdo_pfDB"
   },
   "outputs": [],
   "source": [
    "CUSTOM_MODEL_NAME = 'my_ssd_mobnet_combined_final'\n",
    "PRETRAINED_MODEL_NAME = 'ssd_mobilenet_v2_fpnlite_640x640_coco17_tpu-8'\n",
    "PRETRAINED_MODEL_URL = 'http://download.tensorflow.org/models/object_detection/tf2/20200711/ssd_mobilenet_v1_fpn_640x640_coco17_tpu-8.tar.gz'\n",
    "TF_RECORD_SCRIPT_NAME = 'generate_tfrecord.py'\n",
    "LABEL_MAP_NAME = 'label_map.pbtxt'"
   ]
  },
  {
   "cell_type": "code",
   "execution_count": null,
   "metadata": {
    "id": "hbPhYVy_pfDB"
   },
   "outputs": [],
   "source": [
    "paths = {\n",
    "    'WORKSPACE_PATH': os.path.join('Tensorflow', 'workspace'),\n",
    "    'SCRIPTS_PATH': os.path.join('Tensorflow','scripts'),\n",
    "    'APIMODEL_PATH': os.path.join('Tensorflow','models'),\n",
    "    'ANNOTATION_PATH': os.path.join('Tensorflow', 'workspace','annotations'),\n",
    "    'IMAGE_PATH': os.path.join('Tensorflow', 'workspace','images'),\n",
    "    'MODEL_PATH': os.path.join('Tensorflow', 'workspace','models'),\n",
    "    'PRETRAINED_MODEL_PATH': os.path.join('Tensorflow', 'workspace','pre-trained-models'),\n",
    "    'CHECKPOINT_PATH': os.path.join('Tensorflow', 'workspace','models',CUSTOM_MODEL_NAME), \n",
    "    'OUTPUT_PATH': os.path.join('Tensorflow', 'workspace','models',CUSTOM_MODEL_NAME, 'export'), \n",
    "    'TFJS_PATH':os.path.join('Tensorflow', 'workspace','models',CUSTOM_MODEL_NAME, 'tfjsexport'), \n",
    "    'TFLITE_PATH':os.path.join('Tensorflow', 'workspace','models',CUSTOM_MODEL_NAME, 'tfliteexport'), \n",
    "    'PROTOC_PATH':os.path.join('Tensorflow','protoc')\n",
    " }"
   ]
  },
  {
   "cell_type": "code",
   "execution_count": null,
   "metadata": {
    "id": "LwhWZMI0pfDC"
   },
   "outputs": [],
   "source": [
    "files = {\n",
    "    'PIPELINE_CONFIG':os.path.join('Tensorflow', 'workspace','models', CUSTOM_MODEL_NAME, 'pipeline.config'),\n",
    "    'TF_RECORD_SCRIPT': os.path.join(paths['SCRIPTS_PATH'], TF_RECORD_SCRIPT_NAME), \n",
    "    'LABELMAP': os.path.join(paths['ANNOTATION_PATH'], LABEL_MAP_NAME)\n",
    "}"
   ]
  },
  {
   "cell_type": "code",
   "execution_count": null,
   "metadata": {
    "id": "HR-TfDGrpfDC"
   },
   "outputs": [],
   "source": [
    "for path in paths.values():\n",
    "    if not os.path.exists(path):\n",
    "        if os.name == 'posix':\n",
    "            !mkdir -p {path}\n",
    "        if os.name == 'nt':\n",
    "            !mkdir {path}"
   ]
  },
  {
   "cell_type": "code",
   "execution_count": null,
   "metadata": {},
   "outputs": [],
   "source": [
    "paths"
   ]
  },
  {
   "cell_type": "markdown",
   "metadata": {
    "id": "OLU-rs_ipfDE"
   },
   "source": [
    "# 1. Download TF Models Pretrained Models from Tensorflow Model Zoo and Install TFOD"
   ]
  },
  {
   "cell_type": "code",
   "execution_count": null,
   "metadata": {},
   "outputs": [],
   "source": [
    "# https://www.tensorflow.org/install/source_windows\n",
    "os.path.join(paths['APIMODEL_PATH'], 'research', 'object_detection')"
   ]
  },
  {
   "cell_type": "code",
   "execution_count": null,
   "metadata": {
    "id": "K-Cmz2edpfDE",
    "scrolled": false
   },
   "outputs": [],
   "source": [
    "if os.name=='nt':\n",
    "    !pip install wget\n",
    "    import wget"
   ]
  },
  {
   "cell_type": "code",
   "execution_count": null,
   "metadata": {
    "id": "iA1DIq5OpfDE"
   },
   "outputs": [],
   "source": [
    "if not os.path.exists(os.path.join(paths['APIMODEL_PATH'], 'research', 'object_detection')):\n",
    "    !git clone https://github.com/tensorflow/models {paths['APIMODEL_PATH']}"
   ]
  },
  {
   "cell_type": "code",
   "execution_count": null,
   "metadata": {
    "id": "rJjMHbnDs3Tv"
   },
   "outputs": [],
   "source": [
    "# Install Tensorflow Object Detection \n",
    "\n",
    "if os.name=='posix':  \n",
    "    !apt-get install protobuf-compiler\n",
    "    !cd Tensorflow/models/research && protoc object_detection/protos/*.proto --python_out=. && cp object_detection/packages/tf2/setup.py . && python -m pip install . \n",
    "    \n",
    "if os.name=='nt':\n",
    "    url=\"https://github.com/protocolbuffers/protobuf/releases/download/v3.15.6/protoc-3.15.6-win64.zip\"\n",
    "    wget.download(url)\n",
    "    !move protoc-3.15.6-win64.zip {paths['PROTOC_PATH']}\n",
    "    !cd {paths['PROTOC_PATH']} && tar -xf protoc-3.15.6-win64.zip\n",
    "    os.environ['PATH'] += os.pathsep + os.path.abspath(os.path.join(paths['PROTOC_PATH'], 'bin'))   \n",
    "    !cd Tensorflow/models/research && protoc object_detection/protos/*.proto --python_out=. && copy object_detection\\\\packages\\\\tf2\\\\setup.py setup.py && python setup.py build && python setup.py install\n",
    "    !cd Tensorflow/models/research/slim && pip install -e . \n"
   ]
  },
  {
   "cell_type": "code",
   "execution_count": null,
   "metadata": {},
   "outputs": [],
   "source": [
    "VERIFICATION_SCRIPT = os.path.join(paths['APIMODEL_PATH'], 'research', 'object_detection', 'builders', 'model_builder_tf2_test.py')\n",
    "# Verify Installation\n",
    "!python {VERIFICATION_SCRIPT}"
   ]
  },
  {
   "cell_type": "code",
   "execution_count": null,
   "metadata": {},
   "outputs": [],
   "source": [
    "#!pip install tensorflow --upgrade"
   ]
  },
  {
   "cell_type": "code",
   "execution_count": null,
   "metadata": {},
   "outputs": [],
   "source": [
    "!pip uninstall protobuf matplotlib -y\n",
    "!pip install protobuf matplotlib==3.2"
   ]
  },
  {
   "cell_type": "code",
   "execution_count": null,
   "metadata": {},
   "outputs": [],
   "source": [
    "!pip install Pillow"
   ]
  },
  {
   "cell_type": "code",
   "execution_count": null,
   "metadata": {},
   "outputs": [],
   "source": [
    "!pip install pyyaml"
   ]
  },
  {
   "cell_type": "code",
   "execution_count": null,
   "metadata": {},
   "outputs": [],
   "source": [
    "import object_detection"
   ]
  },
  {
   "cell_type": "code",
   "execution_count": null,
   "metadata": {},
   "outputs": [],
   "source": [
    "!pip list"
   ]
  },
  {
   "cell_type": "code",
   "execution_count": null,
   "metadata": {
    "colab": {
     "base_uri": "https://localhost:8080/"
    },
    "id": "csofht2npfDE",
    "outputId": "ff5471b2-bed2-43f2-959c-327a706527b6"
   },
   "outputs": [],
   "source": [
    "if os.name =='posix':\n",
    "    !wget {PRETRAINED_MODEL_URL}\n",
    "    !mv {PRETRAINED_MODEL_NAME+'.tar.gz'} {paths['PRETRAINED_MODEL_PATH']}\n",
    "    !cd {paths['PRETRAINED_MODEL_PATH']} && tar -zxvf {PRETRAINED_MODEL_NAME+'.tar.gz'}\n",
    "if os.name == 'nt':\n",
    "    wget.download(PRETRAINED_MODEL_URL)\n",
    "    !move {PRETRAINED_MODEL_NAME+'.tar.gz'} {paths['PRETRAINED_MODEL_PATH']}\n",
    "    !cd {paths['PRETRAINED_MODEL_PATH']} && tar -zxvf {PRETRAINED_MODEL_NAME+'.tar.gz'}"
   ]
  },
  {
   "cell_type": "markdown",
   "metadata": {
    "id": "M5KJTnkfpfDC"
   },
   "source": [
    "# 2. Check Annotation Files and Create Label Map"
   ]
  },
  {
   "cell_type": "code",
   "execution_count": null,
   "metadata": {},
   "outputs": [],
   "source": [
    "##Check image rotation\n",
    "from PIL import Image, ExifTags\n",
    "\n",
    "# Run to format annotation files correctly\n",
    "path_extension = \"test\"\n",
    "file_names = os.listdir(os.path.join(paths['IMAGE_PATH'], path_extension))\n",
    "count = 0\n",
    "found = 0\n",
    "t = 0\n",
    "for f in file_names:\n",
    "    if f[-1] != \"l\":\n",
    "        image = Image.open(os.path.join(paths['IMAGE_PATH'], path_extension, f))\n",
    "        try:\n",
    "            if dict(image._getexif().items()).get(274) == 6:\n",
    "                print(\"bad\", f)\n",
    "        except:\n",
    "            print(end=\"\")\n",
    "        image.close()"
   ]
  },
  {
   "cell_type": "code",
   "execution_count": null,
   "metadata": {},
   "outputs": [],
   "source": [
    "# Run to remove occluded line from annotation file\n",
    "path_extension = \"test\"\n",
    "file_names = os.listdir(os.path.join(paths['IMAGE_PATH'], path_extension))\n",
    "count = 0\n",
    "num_found = 0\n",
    "t = 0\n",
    "for f in file_names:\n",
    "    if f[-1] == \"l\":\n",
    "        with open(os.path.join(paths['IMAGE_PATH'], path_extension, f), \"r\") as file:\n",
    "            lines = file.readlines()\n",
    "            found = False\n",
    "            for line in lines:\n",
    "                if line.strip(\"\\n\") == \"\t\t<occluded>0</occluded>\":\n",
    "                    found = True\n",
    "                    num_found += 1\n",
    "        if found == True:\n",
    "            with open(os.path.join(paths['IMAGE_PATH'], path_extension, f), \"w\") as write_file:\n",
    "                for line in lines:\n",
    "                    if line.strip(\"\\n\") != \"\t\t<occluded>0</occluded>\":\n",
    "                        write_file.write(line)\n",
    "        count += 1\n",
    "    t += 1\n",
    "\n",
    "print(\"Annotations checked: \", count)\n",
    "print(\"Number found wrong: \", num_found)"
   ]
  },
  {
   "cell_type": "code",
   "execution_count": null,
   "metadata": {},
   "outputs": [],
   "source": [
    "#make sure ymin and xmax are in the right order\n",
    "file_names = os.listdir(os.path.join(paths['IMAGE_PATH'], path_extension))\n",
    "count = 0\n",
    "found = 0\n",
    "t = 0\n",
    "for f in file_names:\n",
    "    if f[-1] == \"l\":\n",
    "        with open(os.path.join(paths['IMAGE_PATH'], path_extension, f), \"r\") as file:\n",
    "            lines = file.readlines()\n",
    "        with open(os.path.join(paths['IMAGE_PATH'], path_extension, f), \"w\") as write_file:\n",
    "            ymin_found = False\n",
    "            xmax_found = False\n",
    "            xmax_line = \"\"\n",
    "            for line in lines:\n",
    "                if line.strip(\"\\n\")[4:8] != \"xmax\" and line.strip(\"\\n\")[4:8] != \"ymin\" and line.strip(\"\\n\")[4:8] != \"ymax\":\n",
    "                    write_file.write(line)\n",
    "                elif line.strip(\"\\n\")[4:8] == \"xmax\":\n",
    "                    if ymin_found == True:\n",
    "                        write_file.write(line)\n",
    "                    else:\n",
    "                        xmax_line = line\n",
    "                        xmax_found = True\n",
    "                elif line.strip(\"\\n\")[4:8] == \"ymin\":\n",
    "                    if xmax_found == False:\n",
    "                        ymin_found = True\n",
    "                        write_file.write(line)\n",
    "                    else:\n",
    "                        write_file.write(line)\n",
    "                        write_file.write(xmax_line)\n",
    "                elif line.strip(\"\\n\")[4:8] == \"ymax\":\n",
    "                    write_file.write(line)\n",
    "                    ymin_found = False\n",
    "                    xmax_found = False\n",
    "                    xmax_line = \"\"\n",
    "        count += 1\n",
    "    t += 1\n",
    "\n"
   ]
  },
  {
   "cell_type": "code",
   "execution_count": null,
   "metadata": {},
   "outputs": [],
   "source": [
    "#make sure all boxes are positive\n",
    "path_extension = \"train\"\n",
    "file_names = os.listdir(os.path.join(paths['IMAGE_PATH'], path_extension))\n",
    "count = 0\n",
    "checked = 0\n",
    "found = 0\n",
    "heights = 0\n",
    "widths = 0\n",
    "overs = 0\n",
    "t = 0\n",
    "areas_check = 0\n",
    "for f in file_names:\n",
    "    if f[-1] == \"l\":\n",
    "        with open(os.path.join(paths['IMAGE_PATH'], path_extension, f), \"r\") as file:\n",
    "            lines = file.readlines()\n",
    "            height = 0\n",
    "            width = 0\n",
    "            xmin = 0\n",
    "            ymin = 0\n",
    "            xmax = 0\n",
    "            ymax = 0\n",
    "            ymax_checked = False\n",
    "            for line in lines:\n",
    "                if line.strip(\"\\n\")[3] == \"w\":\n",
    "                    stuff = line.split(\">\")\n",
    "                    number = stuff[1].split(\"<\")[0]\n",
    "                    widths += 1\n",
    "                    width = int(number)\n",
    "                    if width < 0:\n",
    "                        print(\"negative width\")\n",
    "                if line.strip(\"\\n\")[3] == \"h\":\n",
    "                    stuff = line.split(\">\")\n",
    "                    number = stuff[1].split(\"<\")[0]\n",
    "                    heights += 1\n",
    "                    height = int(number)\n",
    "                    if height < 0:\n",
    "                        print(\"negative height\")\n",
    "                if line.strip(\"\\n\")[4] == \"x\" or line.strip(\"\\n\")[4] == \"y\":\n",
    "                    stuff = line.split(\">\")\n",
    "                    number = stuff[1].split(\"<\")[0]\n",
    "                    checked += 1\n",
    "                    if int(number) < 0:\n",
    "                        found += 1\n",
    "                    if line.strip(\"\\n\")[4] == \"x\":\n",
    "                        if int(number) > width:\n",
    "                            over += 1\n",
    "                    if line.strip(\"\\n\")[4] == \"y\":\n",
    "                        if int(number) > height:\n",
    "                            over += 1\n",
    "                    if line.strip(\"\\n\")[4:8] == \"xmin\":\n",
    "                        xmin = int(number)\n",
    "                    if line.strip(\"\\n\")[4:8] == \"ymin\":\n",
    "                        ymin = int(number)\n",
    "                    if line.strip(\"\\n\")[4:8] == \"xmax\":\n",
    "                        xmax = int(number)\n",
    "                    if line.strip(\"\\n\")[4:8] == \"ymax\":\n",
    "                        if ymax_checked == True:\n",
    "                            #print(f)\n",
    "                            print(end=\"\")\n",
    "                        ymax_checked = True\n",
    "                        areas_check += 1\n",
    "                        ymax = int(number)\n",
    "                        '''\n",
    "                        if xmin == 0 or xmax == 0 or ymin == 0:\n",
    "                            print(\"All zero\")\n",
    "                        if (xmin > xmax or ymin > ymax):\n",
    "                            print(\"Wrong order!\")\n",
    "                        if (xmax - xmin) * (ymax - ymin) <= 0:\n",
    "                            print(\"zero area\")\n",
    "                        if width == xmax:\n",
    "                            print(\"same width\", f)\n",
    "                        if height == ymax:\n",
    "                            print(\"same height\", f)\n",
    "                        '''\n",
    "        count += 1\n",
    "        #print(width, height, xmin, ymin, xmax, ymax, f)\n",
    "    t += 1\n",
    "print(\"Files checked:\", count)\n",
    "#print(checked)\n",
    "print(\"Found incorret:\",found)\n",
    "#print(heights)\n",
    "#print(widths)\n",
    "#print(overs)\n",
    "print(\"Boxes checked:\", areas_check)"
   ]
  },
  {
   "cell_type": "code",
   "execution_count": null,
   "metadata": {
    "id": "p1BVDWo7pfDC"
   },
   "outputs": [],
   "source": [
    "#Create label map\n",
    "class_names = [\"cat-Abyssinian\", \"cat-Bengal\", \"cat-Birman\", \"cat-Bombay\", \"cat-British_Shorthair\", \"cat-Egyptian_Mau\", \n",
    "               \"cat-Maine_Coon\", \"cat-Persian\", \"cat-Ragdoll\", \"cat-Russian_Blue\", \"cat-Siamese\", \"cat-Sphynx\", \n",
    "               \"dog-american_bulldog\", \"dog-american_pit_bull_terrier\", \"dog-basset_hound\", \"dog-beagle\", \"dog-boxer\", \n",
    "               \"dog-chihuahua\", \"dog-english_cocker_spaniel\", \"dog-english_setter\", \"dog-german_shorthaired\", \n",
    "               \"dog-great_pyrenees\", \"dog-havanese\", \"dog-japanese_chin\", \"dog-keeshond\", \"dog-leonberger\", \n",
    "               \"dog-miniature_pinscher\", \"dog-newfoundland\", \"dog-pomeranian\", \"dog-pug\", \"dog-saint_bernard\", \"dog-samoyed\", \n",
    "               \"dog-scottish_terrier\", \"dog-shiba_inu\", \"dog-staffordshire_bull_terrier\", \"dog-wheaten_terrier\", \n",
    "               \"dog-yorkshire_terrier\", \"bella\"]\n",
    "labels = []\n",
    "count = 1\n",
    "for c in class_names:\n",
    "    new_lab = {}\n",
    "    new_lab[\"name\"] = c\n",
    "    new_lab[\"id\"] = count\n",
    "    count += 1\n",
    "    \n",
    "    labels.append(new_lab)\n",
    "#print(labels)\n",
    "with open(files['LABELMAP'], 'w') as f:\n",
    "    for label in labels:\n",
    "        f.write('item { \\n')\n",
    "        f.write('\\tname:\\'{}\\'\\n'.format(label['name']))\n",
    "        f.write('\\tid:{}\\n'.format(label['id']))\n",
    "        f.write('}\\n')"
   ]
  },
  {
   "cell_type": "markdown",
   "metadata": {
    "id": "C88zyVELpfDC"
   },
   "source": [
    "# 3. Create TF records"
   ]
  },
  {
   "cell_type": "code",
   "execution_count": null,
   "metadata": {
    "colab": {
     "base_uri": "https://localhost:8080/"
    },
    "id": "kvf5WccwrFGq",
    "outputId": "49902aeb-0bd7-4298-e1a0-5b4a64eb2064"
   },
   "outputs": [],
   "source": [
    "# OPTIONAL IF RUNNING ON COLAB\n",
    "ARCHIVE_FILES = os.path.join(paths['IMAGE_PATH'], 'archive.tar.gz')\n",
    "if os.path.exists(ARCHIVE_FILES):\n",
    "  !tar -zxvf {ARCHIVE_FILES}"
   ]
  },
  {
   "cell_type": "code",
   "execution_count": null,
   "metadata": {
    "colab": {
     "base_uri": "https://localhost:8080/"
    },
    "id": "KWpb_BVUpfDD",
    "outputId": "56ce2a3f-3933-4ee6-8a9d-d5ec65f7d73c"
   },
   "outputs": [],
   "source": [
    "if not os.path.exists(files['TF_RECORD_SCRIPT']):\n",
    "    !git clone https://github.com/nicknochnack/GenerateTFRecord {paths['SCRIPTS_PATH']}"
   ]
  },
  {
   "cell_type": "code",
   "execution_count": null,
   "metadata": {},
   "outputs": [],
   "source": [
    "files['TF_RECORD_SCRIPT']\n",
    "paths['ANNOTATION_PATH']"
   ]
  },
  {
   "cell_type": "code",
   "execution_count": null,
   "metadata": {
    "colab": {
     "base_uri": "https://localhost:8080/"
    },
    "id": "UPFToGZqpfDD",
    "outputId": "0ebb456f-aadc-4a1f-96e6-fbfec1923e1c",
    "scrolled": true
   },
   "outputs": [],
   "source": [
    "!python {files['TF_RECORD_SCRIPT']} -x {os.path.join(paths['IMAGE_PATH'], 'train')} -l {files['LABELMAP']} -o {os.path.join(paths['ANNOTATION_PATH'], 'train.record')} \n",
    "!python {files['TF_RECORD_SCRIPT']} -x {os.path.join(paths['IMAGE_PATH'], 'test')} -l {files['LABELMAP']} -o {os.path.join(paths['ANNOTATION_PATH'], 'test.record')} "
   ]
  },
  {
   "cell_type": "code",
   "execution_count": null,
   "metadata": {
    "scrolled": false
   },
   "outputs": [],
   "source": [
    "!pip install pytz"
   ]
  },
  {
   "cell_type": "markdown",
   "metadata": {
    "id": "qT4QU7pLpfDE"
   },
   "source": [
    "# 4. Copy Model Config to Training Folder"
   ]
  },
  {
   "cell_type": "code",
   "execution_count": null,
   "metadata": {
    "id": "cOjuTFbwpfDF",
    "scrolled": true
   },
   "outputs": [],
   "source": [
    "if os.name =='posix':\n",
    "    !cp {os.path.join(paths['PRETRAINED_MODEL_PATH'], PRETRAINED_MODEL_NAME, 'pipeline.config')} {os.path.join(paths['CHECKPOINT_PATH'])}\n",
    "if os.name == 'nt':\n",
    "    !copy {os.path.join(paths['PRETRAINED_MODEL_PATH'], PRETRAINED_MODEL_NAME, 'pipeline.config')} {os.path.join(paths['CHECKPOINT_PATH'])}"
   ]
  },
  {
   "cell_type": "markdown",
   "metadata": {
    "id": "Ga8gpNslpfDF"
   },
   "source": [
    "# 5. Update Config For Transfer Learning"
   ]
  },
  {
   "cell_type": "code",
   "execution_count": null,
   "metadata": {
    "id": "Z9hRrO_ppfDF"
   },
   "outputs": [],
   "source": [
    "import tensorflow as tf\n",
    "from object_detection.utils import config_util\n",
    "from object_detection.protos import pipeline_pb2\n",
    "from google.protobuf import text_format"
   ]
  },
  {
   "cell_type": "code",
   "execution_count": null,
   "metadata": {
    "id": "c2A0mn4ipfDF"
   },
   "outputs": [],
   "source": [
    "config = config_util.get_configs_from_pipeline_file(files['PIPELINE_CONFIG'])"
   ]
  },
  {
   "cell_type": "code",
   "execution_count": null,
   "metadata": {
    "colab": {
     "base_uri": "https://localhost:8080/"
    },
    "id": "uQA13-afpfDF",
    "outputId": "907496a4-a39d-4b13-8c2c-e5978ecb1f10"
   },
   "outputs": [],
   "source": [
    "config"
   ]
  },
  {
   "cell_type": "code",
   "execution_count": null,
   "metadata": {
    "id": "9vK5lotDpfDF"
   },
   "outputs": [],
   "source": [
    "pipeline_config = pipeline_pb2.TrainEvalPipelineConfig()\n",
    "with tf.io.gfile.GFile(files['PIPELINE_CONFIG'], \"r\") as f:                                                                                                                                                                                                                     \n",
    "    proto_str = f.read()                                                                                                                                                                                                                                          \n",
    "    text_format.Merge(proto_str, pipeline_config)  "
   ]
  },
  {
   "cell_type": "code",
   "execution_count": null,
   "metadata": {
    "id": "rP43Ph0JpfDG"
   },
   "outputs": [],
   "source": [
    "pipeline_config.model.ssd.num_classes = len(labels)\n",
    "pipeline_config.train_config.batch_size = 8\n",
    "pipeline_config.train_config.fine_tune_checkpoint = os.path.join(paths['PRETRAINED_MODEL_PATH'], PRETRAINED_MODEL_NAME, 'checkpoint', 'ckpt-0')\n",
    "pipeline_config.train_config.fine_tune_checkpoint_type = \"detection\"\n",
    "pipeline_config.train_input_reader.label_map_path= files['LABELMAP']\n",
    "pipeline_config.train_input_reader.tf_record_input_reader.input_path[:] = [os.path.join(paths['ANNOTATION_PATH'], 'train.record')]\n",
    "pipeline_config.eval_input_reader[0].label_map_path = files['LABELMAP']\n",
    "pipeline_config.eval_input_reader[0].tf_record_input_reader.input_path[:] = [os.path.join(paths['ANNOTATION_PATH'], 'test.record')]"
   ]
  },
  {
   "cell_type": "code",
   "execution_count": null,
   "metadata": {
    "id": "oJvfgwWqpfDG"
   },
   "outputs": [],
   "source": [
    "config_text = text_format.MessageToString(pipeline_config)                                                                                                                                                                                                        \n",
    "with tf.io.gfile.GFile(files['PIPELINE_CONFIG'], \"wb\") as f:                                                                                                                                                                                                                     \n",
    "    f.write(config_text)   "
   ]
  },
  {
   "cell_type": "markdown",
   "metadata": {
    "id": "Zr3ON7xMpfDG"
   },
   "source": [
    "# 6. Train the model"
   ]
  },
  {
   "cell_type": "code",
   "execution_count": null,
   "metadata": {
    "id": "B-Y2UQmQpfDG"
   },
   "outputs": [],
   "source": [
    "TRAINING_SCRIPT = os.path.join(paths['APIMODEL_PATH'], 'research', 'object_detection', 'model_main_tf2.py')"
   ]
  },
  {
   "cell_type": "code",
   "execution_count": null,
   "metadata": {
    "id": "jMP2XDfQpfDH"
   },
   "outputs": [],
   "source": [
    "command = \"python {} --model_dir={} --pipeline_config_path={} --num_train_steps=20000\".format(TRAINING_SCRIPT, paths['CHECKPOINT_PATH'],files['PIPELINE_CONFIG'])"
   ]
  },
  {
   "cell_type": "code",
   "execution_count": null,
   "metadata": {
    "colab": {
     "base_uri": "https://localhost:8080/"
    },
    "id": "A4OXXi-ApfDH",
    "outputId": "117a0e83-012b-466e-b7a6-ccaa349ac5ab"
   },
   "outputs": [],
   "source": [
    "print(command)"
   ]
  },
  {
   "cell_type": "code",
   "execution_count": null,
   "metadata": {
    "colab": {
     "base_uri": "https://localhost:8080/"
    },
    "id": "i3ZsJR-qpfDH",
    "outputId": "cabec5e1-45e6-4f2f-d9cf-297d9c1d0225"
   },
   "outputs": [],
   "source": [
    "#!{command}"
   ]
  },
  {
   "cell_type": "markdown",
   "metadata": {
    "id": "4_YRZu7npfDH"
   },
   "source": [
    "# 7. Evaluate the Model"
   ]
  },
  {
   "cell_type": "code",
   "execution_count": null,
   "metadata": {
    "id": "80L7-fdPpfDH"
   },
   "outputs": [],
   "source": [
    "command = \"python {} --model_dir={} --pipeline_config_path={} --checkpoint_dir={}\".format(TRAINING_SCRIPT, paths['CHECKPOINT_PATH'],files['PIPELINE_CONFIG'], paths['CHECKPOINT_PATH'])"
   ]
  },
  {
   "cell_type": "code",
   "execution_count": null,
   "metadata": {
    "colab": {
     "base_uri": "https://localhost:8080/"
    },
    "id": "lYsgEPx9pfDH",
    "outputId": "8632d48b-91d2-45d9-bcb8-c1b172bf6eed"
   },
   "outputs": [],
   "source": [
    "print(command)"
   ]
  },
  {
   "cell_type": "code",
   "execution_count": null,
   "metadata": {
    "id": "lqTV2jGBpfDH"
   },
   "outputs": [],
   "source": [
    "!{command}"
   ]
  },
  {
   "cell_type": "markdown",
   "metadata": {
    "id": "orvRk02UpfDI"
   },
   "source": [
    "# 8. Load Train Model From Checkpoint"
   ]
  },
  {
   "cell_type": "code",
   "execution_count": null,
   "metadata": {
    "id": "8TYk4_oIpfDI"
   },
   "outputs": [],
   "source": [
    "import os\n",
    "import tensorflow as tf\n",
    "from object_detection.utils import label_map_util\n",
    "from object_detection.utils import visualization_utils as viz_utils\n",
    "from object_detection.builders import model_builder\n",
    "from object_detection.utils import config_util"
   ]
  },
  {
   "cell_type": "code",
   "execution_count": null,
   "metadata": {
    "id": "tDnQg-cYpfDI"
   },
   "outputs": [],
   "source": [
    "# Load pipeline config and build a detection model\n",
    "configs = config_util.get_configs_from_pipeline_file(files['PIPELINE_CONFIG'])\n",
    "detection_model = model_builder.build(model_config=configs['model'], is_training=False)\n",
    "\n",
    "# Restore checkpoint\n",
    "ckpt = tf.compat.v2.train.Checkpoint(model=detection_model)\n",
    "ckpt.restore(os.path.join(paths['CHECKPOINT_PATH'], 'ckpt-75')).expect_partial()\n",
    "\n",
    "@tf.function\n",
    "def detect_fn(image):\n",
    "    image, shapes = detection_model.preprocess(image)\n",
    "    prediction_dict = detection_model.predict(image, shapes)\n",
    "    detections = detection_model.postprocess(prediction_dict, shapes)\n",
    "    return detections"
   ]
  },
  {
   "cell_type": "markdown",
   "metadata": {
    "id": "0EmsmbBZpfDI"
   },
   "source": [
    "# 9. Detect from all Test Images"
   ]
  },
  {
   "cell_type": "code",
   "execution_count": null,
   "metadata": {
    "id": "Y_MKiuZ4pfDI"
   },
   "outputs": [],
   "source": [
    "import cv2 \n",
    "import numpy as np\n",
    "from matplotlib import pyplot as plt\n",
    "%matplotlib inline\n",
    "\n",
    "import pandas as pd"
   ]
  },
  {
   "cell_type": "code",
   "execution_count": null,
   "metadata": {
    "id": "cBDbIhNapfDI"
   },
   "outputs": [],
   "source": [
    "category_index = label_map_util.create_category_index_from_labelmap(files['LABELMAP'])"
   ]
  },
  {
   "cell_type": "code",
   "execution_count": null,
   "metadata": {},
   "outputs": [],
   "source": [
    "images = os.listdir(os.path.join(paths['IMAGE_PATH'], \"test\"))"
   ]
  },
  {
   "cell_type": "code",
   "execution_count": null,
   "metadata": {
    "colab": {
     "base_uri": "https://localhost:8080/",
     "height": 269
    },
    "id": "Tpzn1SMry1yK",
    "outputId": "c392a2c5-10fe-4fc4-9998-a1d4c7db2bd3",
    "scrolled": false
   },
   "outputs": [],
   "source": [
    "import time\n",
    "import random\n",
    "\n",
    "random_images = []\n",
    "for x in images:\n",
    "    if x[-1] != \"l\":\n",
    "        random_images.append(x)\n",
    "\n",
    "longest = 0\n",
    "final_data = []\n",
    "\n",
    "save_folder = \"\"\n",
    "\n",
    "for i_path in random_images:\n",
    "    curr_image_data = []\n",
    "    curr_image_data.append(i_path)\n",
    "    \n",
    "    IMAGE_PATH = os.path.join(paths['IMAGE_PATH'], 'test', i_path)\n",
    "    \n",
    "    img = cv2.imread(IMAGE_PATH)\n",
    "    width, height, colors = img.shape\n",
    "    curr_image_data.append(width)\n",
    "    curr_image_data.append(height)\n",
    "    \n",
    "    image_np = np.array(img)\n",
    "\n",
    "    input_tensor = tf.convert_to_tensor(np.expand_dims(image_np, 0), dtype=tf.float32)\n",
    "\n",
    "    start = time.time()\n",
    "    detections = detect_fn(input_tensor)\n",
    "    finish = time.time()\n",
    "\n",
    "    num_detections = int(detections.pop('num_detections'))\n",
    "    detections = {key: value[0, :num_detections].numpy()\n",
    "                  for key, value in detections.items()}\n",
    "    detections['num_detections'] = num_detections\n",
    "    \n",
    "    # detection_classes should be ints.\n",
    "    detections['detection_classes'] = detections['detection_classes'].astype(np.int64)\n",
    "    \n",
    "    boxes = np.squeeze(detections[\"detection_boxes\"])\n",
    "    classes = np.squeeze(detections[\"detection_classes\"])\n",
    "    scores = np.squeeze(detections[\"detection_scores\"])\n",
    "    count = num_detections\n",
    "    \n",
    "    res = []\n",
    "    for i in range(count):\n",
    "        if scores[i] >= -1:\n",
    "            #print(\"Score: \", scores[i])\n",
    "            result = {\n",
    "                'bounding_box': boxes[i],\n",
    "                'class_id': classes[i],\n",
    "                'score': scores[i]\n",
    "            }\n",
    "            res.append(result)\n",
    "    \n",
    "    res_counter = 0\n",
    "    for result in res:\n",
    "        curr_image_data.append(result)\n",
    "        res_counter += 1\n",
    "        ymin, xmin, ymax, xmax = result['bounding_box']\n",
    "        xmin = int(max(1,xmin * width))\n",
    "        xmax = int(min(width, xmax * width))\n",
    "        ymin = int(max(1, ymin * height))\n",
    "        ymax = int(min(height, ymax * height))\n",
    "    \n",
    "    if len(curr_image_data) > longest:\n",
    "        longest = len(curr_image_data)\n",
    "    final_data.append(curr_image_data)\n",
    "    \n",
    "    label_id_offset = 1\n",
    "    image_np_with_detections = image_np.copy()\n",
    "\n",
    "    viz_utils.visualize_boxes_and_labels_on_image_array(\n",
    "                image_np_with_detections,\n",
    "                detections['detection_boxes'],\n",
    "                detections['detection_classes']+label_id_offset,\n",
    "                detections['detection_scores'],\n",
    "                category_index,\n",
    "                use_normalized_coordinates=True,\n",
    "                max_boxes_to_draw=5,\n",
    "                min_score_thresh=.6,\n",
    "                agnostic_mode=False)\n",
    "    \n",
    "    final_image = cv2.cvtColor(image_np_with_detections, cv2.COLOR_BGR2RGB)\n",
    "    plt.imshow(final_image)\n",
    "    if save_folder != \"\":\n",
    "        save_place = save_folder + i_path\n",
    "        cv2.imwrite(save_place, final_image)\n",
    "    plt.show()\n",
    "\n",
    "    print(\"FPS:\", 1 / (finish - start))\n",
    "\n",
    "possible_columns = ['id', 'width', 'height', '1box', '2box', '3box', '4box', '5box', '6box', '7box', '8box', '9box', '10box', '11box', '12box', '13box', '14box', '15box', '16box', '17box', '18box', '19box', '20box', '21box', '22box', '23box', '24box', '25box', '26box', '27box', '28box', '29box', '30box', '31box', '32box', '33box', '34box', '35box', '36box', '37box', '38box', '39box', '40box', '41box', '42box', '43box', '44box', '45box', '46box', '47box', '48box', '49box', '50box', '51box', '52box', '53box', '54box', '55box', '56box', '57box', '58box', '59box', '60box', '61box', '62box', '63box', '64box', '65box', '66box', '67box', '68box', '69box', '70box', '71box', '72box', '73box', '74box', '75box', '76box', '77box', '78box', '79box', '80box', '81box', '82box', '83box', '84box', '85box', '86box', '87box', '88box', '89box', '90box', '91box', '92box', '93box', '94box', '95box', '96box', '97box', '98box', '99box', '100box', '101box', '102box', '103box', '104box', '105box', '106box', '107box', '108box', '109box', '110box', '111box', '112box', '113box', '114box', '115box', '116box', '117box', '118box', '119box', '120box', '121box', '122box', '123box', '124box', '125box', '126box', '127box', '128box', '129box', '130box', '131box', '132box', '133box', '134box', '135box', '136box', '137box', '138box', '139box', '140box', '141box', '142box', '143box', '144box', '145box', '146box', '147box', '148box', '149box', '150box']\n",
    "df = pd.DataFrame(final_data, columns=possible_columns[0:longest])\n",
    "df.to_csv(\"tensorflow_combined_results.csv\")"
   ]
  },
  {
   "cell_type": "markdown",
   "metadata": {
    "id": "IsNAaYAo0WVL"
   },
   "source": [
    "# 10. Real Time Detections from your Webcam"
   ]
  },
  {
   "cell_type": "code",
   "execution_count": null,
   "metadata": {},
   "outputs": [],
   "source": [
    "!pip uninstall opencv-python-headless -y"
   ]
  },
  {
   "cell_type": "code",
   "execution_count": null,
   "metadata": {
    "id": "o_grs6OGpfDJ"
   },
   "outputs": [],
   "source": [
    "from IPython.display import clear_output\n",
    "import time\n",
    "\n",
    "cap = cv2.VideoCapture(0)\n",
    "width = int(cap.get(cv2.CAP_PROP_FRAME_WIDTH))\n",
    "height = int(cap.get(cv2.CAP_PROP_FRAME_HEIGHT))\n",
    "\n",
    "while cap.isOpened(): \n",
    "    ret, frame = cap.read()\n",
    "    image_np = np.array(frame)\n",
    "    \n",
    "    input_tensor = tf.convert_to_tensor(np.expand_dims(image_np, 0), dtype=tf.float32)\n",
    "    \n",
    "    clear_output()\n",
    "    start = time.time()\n",
    "    detections = detect_fn(input_tensor)\n",
    "    finish = time.time()\n",
    "    print(\"FPS:\", 1 / (finish - start))\n",
    "    \n",
    "    num_detections = int(detections.pop('num_detections'))\n",
    "    detections = {key: value[0, :num_detections].numpy()\n",
    "                  for key, value in detections.items()}\n",
    "    detections['num_detections'] = num_detections\n",
    "\n",
    "    # detection_classes should be ints.\n",
    "    detections['detection_classes'] = detections['detection_classes'].astype(np.int64)\n",
    "\n",
    "    label_id_offset = 1\n",
    "    image_np_with_detections = image_np.copy()\n",
    "\n",
    "    viz_utils.visualize_boxes_and_labels_on_image_array(\n",
    "                image_np_with_detections,\n",
    "                detections['detection_boxes'],\n",
    "                detections['detection_classes']+label_id_offset,\n",
    "                detections['detection_scores'],\n",
    "                category_index,\n",
    "                use_normalized_coordinates=True,\n",
    "                max_boxes_to_draw=5,\n",
    "                min_score_thresh=.5,\n",
    "                agnostic_mode=False)\n",
    "\n",
    "    cv2.imshow('object detection',  cv2.resize(image_np_with_detections, (800, 600)))\n",
    "    \n",
    "    if cv2.waitKey(10) & 0xFF == ord('q'):\n",
    "        cap.release()\n",
    "        cv2.destroyAllWindows()\n",
    "        break"
   ]
  },
  {
   "cell_type": "markdown",
   "metadata": {
    "id": "rzlM4jt0pfDJ"
   },
   "source": [
    "# 10. Freezing the Graph"
   ]
  },
  {
   "cell_type": "code",
   "execution_count": null,
   "metadata": {
    "id": "n4olHB2npfDJ"
   },
   "outputs": [],
   "source": [
    "FREEZE_SCRIPT = os.path.join(paths['APIMODEL_PATH'], 'research', 'object_detection', 'exporter_main_v2.py ')"
   ]
  },
  {
   "cell_type": "code",
   "execution_count": null,
   "metadata": {
    "id": "0AjO93QDpfDJ"
   },
   "outputs": [],
   "source": [
    "command = \"python {} --input_type=image_tensor --pipeline_config_path={} --trained_checkpoint_dir={} --output_directory={}\".format(FREEZE_SCRIPT ,files['PIPELINE_CONFIG'], paths['CHECKPOINT_PATH'], paths['OUTPUT_PATH'])"
   ]
  },
  {
   "cell_type": "code",
   "execution_count": null,
   "metadata": {
    "colab": {
     "base_uri": "https://localhost:8080/"
    },
    "id": "F6Lsp3tCpfDJ",
    "outputId": "c3828529-bf06-4df5-d7f3-145890ec3edd"
   },
   "outputs": [],
   "source": [
    "print(command)"
   ]
  },
  {
   "cell_type": "code",
   "execution_count": null,
   "metadata": {
    "colab": {
     "base_uri": "https://localhost:8080/"
    },
    "id": "1Sw1ULgHpfDJ",
    "outputId": "6fd441e1-9fc9-4889-d072-3395c21e40b6"
   },
   "outputs": [],
   "source": [
    "!{command}"
   ]
  },
  {
   "cell_type": "markdown",
   "metadata": {},
   "source": [
    "# 11. Making a prediction video"
   ]
  },
  {
   "cell_type": "code",
   "execution_count": 2,
   "metadata": {},
   "outputs": [
    {
     "name": "stdout",
     "output_type": "stream",
     "text": [
      "\n"
     ]
    },
    {
     "ename": "NameError",
     "evalue": "name 'tf' is not defined",
     "output_type": "error",
     "traceback": [
      "\u001b[1;31m---------------------------------------------------------------------------\u001b[0m",
      "\u001b[1;31mNameError\u001b[0m                                 Traceback (most recent call last)",
      "Input \u001b[1;32mIn [2]\u001b[0m, in \u001b[0;36m<cell line: 21>\u001b[1;34m()\u001b[0m\n\u001b[0;32m     24\u001b[0m \u001b[38;5;28;01mif\u001b[39;00m ret \u001b[38;5;241m==\u001b[39m \u001b[38;5;28;01mTrue\u001b[39;00m:\n\u001b[0;32m     25\u001b[0m     image_np \u001b[38;5;241m=\u001b[39m np\u001b[38;5;241m.\u001b[39marray(frame)\n\u001b[1;32m---> 26\u001b[0m     input_tensor \u001b[38;5;241m=\u001b[39m \u001b[43mtf\u001b[49m\u001b[38;5;241m.\u001b[39mconvert_to_tensor(np\u001b[38;5;241m.\u001b[39mexpand_dims(image_np, \u001b[38;5;241m0\u001b[39m), dtype\u001b[38;5;241m=\u001b[39mtf\u001b[38;5;241m.\u001b[39mfloat32)\n\u001b[0;32m     28\u001b[0m     start \u001b[38;5;241m=\u001b[39m time\u001b[38;5;241m.\u001b[39mtime()\n\u001b[0;32m     29\u001b[0m     detections \u001b[38;5;241m=\u001b[39m detect_fn(input_tensor)\n",
      "\u001b[1;31mNameError\u001b[0m: name 'tf' is not defined"
     ]
    }
   ],
   "source": [
    "import cv2\n",
    "import numpy as np\n",
    "import time\n",
    "\n",
    "# Create a VideoCapture object and read from input file\n",
    "# If the input is the camera, pass 0 instead of the video file name\n",
    "cap = cv2.VideoCapture(\"test.mp4\")\n",
    "\n",
    "# Check if camera opened successfully\n",
    "if (cap.isOpened()== False):\n",
    "    print(\"Error opening video stream or file\")\n",
    "\n",
    "frame_width = int(cap.get(3))\n",
    "frame_height = int(cap.get(4))\n",
    "print(\"\")\n",
    "\n",
    "fourcc = cv2.VideoWriter_fourcc(*'mp4v')\n",
    "    \n",
    "out = cv2.VideoWriter('Tensorflow.mp4', fourcc, 10, (frame_width,frame_height))\n",
    "# Read until video is completed\n",
    "while(cap.isOpened()):\n",
    "    # Capture frame-by-frame\n",
    "    ret, frame = cap.read()\n",
    "    if ret == True:\n",
    "        image_np = np.array(frame)\n",
    "        input_tensor = tf.convert_to_tensor(np.expand_dims(image_np, 0), dtype=tf.float32)\n",
    "        \n",
    "        start = time.time()\n",
    "        detections = detect_fn(input_tensor)\n",
    "        finish = time.time()\n",
    "\n",
    "        num_detections = int(detections.pop('num_detections'))\n",
    "        detections = {key: value[0, :num_detections].numpy()\n",
    "                      for key, value in detections.items()}\n",
    "        detections['num_detections'] = num_detections\n",
    "\n",
    "        # detection_classes should be ints.\n",
    "        detections['detection_classes'] = detections['detection_classes'].astype(np.int64)\n",
    "\n",
    "        boxes = np.squeeze(detections[\"detection_boxes\"])\n",
    "        classes = np.squeeze(detections[\"detection_classes\"])\n",
    "        scores = np.squeeze(detections[\"detection_scores\"])\n",
    "        count = num_detections\n",
    "        \n",
    "        label_id_offset = 1\n",
    "        image_np_with_detections = image_np.copy()\n",
    "\n",
    "        viz_utils.visualize_boxes_and_labels_on_image_array(\n",
    "                image_np_with_detections,\n",
    "                detections['detection_boxes'],\n",
    "                detections['detection_classes']+label_id_offset,\n",
    "                detections['detection_scores'],\n",
    "                category_index,\n",
    "                use_normalized_coordinates=True,\n",
    "                max_boxes_to_draw=5,\n",
    "                min_score_thresh=.6,\n",
    "                agnostic_mode=False)\n",
    "        #final_image = cv2.cvtColor(image_np_with_detections, cv2.COLOR_BGR2RGB)\n",
    "        \n",
    "        out.write(image_np_with_detections)\n",
    "        \n",
    "        # Display the resulting frame\n",
    "        cv2.imshow('Frame',frame)\n",
    "        \n",
    "        print(\"FPS:\", 1 / (finish - start))\n",
    "\n",
    "        # Press Q on keyboard to  exit\n",
    "        if cv2.waitKey(25) & 0xFF == ord('q'):\n",
    "            break\n",
    "    # Break the loop\n",
    "    else:\n",
    "        break\n",
    "\n",
    "cap.release()\n",
    "out.release()\n",
    "\n",
    "# Closes all the frames\n",
    "cv2.destroyAllWindows()\n"
   ]
  },
  {
   "cell_type": "code",
   "execution_count": null,
   "metadata": {},
   "outputs": [],
   "source": []
  }
 ],
 "metadata": {
  "accelerator": "GPU",
  "colab": {
   "name": "3. Training and Detection.ipynb",
   "provenance": []
  },
  "kernelspec": {
   "display_name": "tfod",
   "language": "python",
   "name": "tfod"
  },
  "language_info": {
   "codemirror_mode": {
    "name": "ipython",
    "version": 3
   },
   "file_extension": ".py",
   "mimetype": "text/x-python",
   "name": "python",
   "nbconvert_exporter": "python",
   "pygments_lexer": "ipython3",
   "version": "3.8.5"
  }
 },
 "nbformat": 4,
 "nbformat_minor": 1
}
